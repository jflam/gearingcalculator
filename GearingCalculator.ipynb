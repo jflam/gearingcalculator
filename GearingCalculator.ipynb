{
  "cells": [
    {
      "metadata": {
        "collapsed": true
      },
      "cell_type": "markdown",
      "source": "# Gearing Calculator\n(C)2019 John Lam. Released under the MIT license\n\n## Spikes\n\n- ~~Define a simple calculator that computes a gearing table using a cassette and crank configuration.~~\n- ~~Create a different gearing table that computes the % gap between the previous to the next~~\n- ~~Colorize the gearing table so that you see <5% jumps as green and 5-10% jumps as yellow and >10% jumps as red~~\n- Create a database of gearing tables in some kind of CSV format that is read into a pandas dataframe \n- Use some kind of simple widget to do computations with drop downs against the gearing combinations\n"
    },
    {
      "metadata": {},
      "cell_type": "markdown",
      "source": "## Fixed configuration cassette and crank\n\nGiven `cassette` and `crank` lists that hold the gearing ratios, compute the gear inches."
    },
    {
      "metadata": {
        "trusted": true
      },
      "cell_type": "code",
      "source": "cassette = [11, 12, 13, 14, 15, 17, 19, 21, 23, 25, 28]\ncrankset = [34, 50]",
      "execution_count": 1,
      "outputs": []
    },
    {
      "metadata": {
        "trusted": true
      },
      "cell_type": "code",
      "source": "import numpy as np\nimport pandas as pd",
      "execution_count": 5,
      "outputs": []
    },
    {
      "metadata": {
        "trusted": true
      },
      "cell_type": "code",
      "source": "data = []\nfor gear in cassette:\n    data.append(\n        np.array(\n            [crank_gear/gear * 27 for crank_gear in crankset]\n        )\n    )\n\ndf = pd.DataFrame(data, index=cassette, columns=crankset)\ndf.round(1)",
      "execution_count": 13,
      "outputs": [
        {
          "output_type": "execute_result",
          "execution_count": 13,
          "data": {
            "text/html": "<div>\n<style scoped>\n    .dataframe tbody tr th:only-of-type {\n        vertical-align: middle;\n    }\n\n    .dataframe tbody tr th {\n        vertical-align: top;\n    }\n\n    .dataframe thead th {\n        text-align: right;\n    }\n</style>\n<table border=\"1\" class=\"dataframe\">\n  <thead>\n    <tr style=\"text-align: right;\">\n      <th></th>\n      <th>34</th>\n      <th>50</th>\n    </tr>\n  </thead>\n  <tbody>\n    <tr>\n      <th>11</th>\n      <td>83.5</td>\n      <td>122.7</td>\n    </tr>\n    <tr>\n      <th>12</th>\n      <td>76.5</td>\n      <td>112.5</td>\n    </tr>\n    <tr>\n      <th>13</th>\n      <td>70.6</td>\n      <td>103.8</td>\n    </tr>\n    <tr>\n      <th>14</th>\n      <td>65.6</td>\n      <td>96.4</td>\n    </tr>\n    <tr>\n      <th>15</th>\n      <td>61.2</td>\n      <td>90.0</td>\n    </tr>\n    <tr>\n      <th>17</th>\n      <td>54.0</td>\n      <td>79.4</td>\n    </tr>\n    <tr>\n      <th>19</th>\n      <td>48.3</td>\n      <td>71.1</td>\n    </tr>\n    <tr>\n      <th>21</th>\n      <td>43.7</td>\n      <td>64.3</td>\n    </tr>\n    <tr>\n      <th>23</th>\n      <td>39.9</td>\n      <td>58.7</td>\n    </tr>\n    <tr>\n      <th>25</th>\n      <td>36.7</td>\n      <td>54.0</td>\n    </tr>\n    <tr>\n      <th>28</th>\n      <td>32.8</td>\n      <td>48.2</td>\n    </tr>\n  </tbody>\n</table>\n</div>",
            "text/plain": "      34     50\n11  83.5  122.7\n12  76.5  112.5\n13  70.6  103.8\n14  65.6   96.4\n15  61.2   90.0\n17  54.0   79.4\n19  48.3   71.1\n21  43.7   64.3\n23  39.9   58.7\n25  36.7   54.0\n28  32.8   48.2"
          },
          "metadata": {}
        }
      ]
    },
    {
      "metadata": {},
      "cell_type": "markdown",
      "source": "## Compute % jumps between gears\n\nGiven a cassette and a crankset, compute jumps going from smaller to larger gears as percentages."
    },
    {
      "metadata": {
        "trusted": true
      },
      "cell_type": "code",
      "source": "df = pd.DataFrame(index = cassette)\n\npercentage = [0]\nfor crank_gear in crankset:\n    for i in range(len(cassette) - 1):\n        percentage.append((cassette[i + 1] - cassette[i])/crank_gear * 100)\n    df[crank_gear] = percentage\n    percentage = [0]\n    \ndf.round(1)",
      "execution_count": 20,
      "outputs": [
        {
          "output_type": "execute_result",
          "execution_count": 20,
          "data": {
            "text/html": "<div>\n<style scoped>\n    .dataframe tbody tr th:only-of-type {\n        vertical-align: middle;\n    }\n\n    .dataframe tbody tr th {\n        vertical-align: top;\n    }\n\n    .dataframe thead th {\n        text-align: right;\n    }\n</style>\n<table border=\"1\" class=\"dataframe\">\n  <thead>\n    <tr style=\"text-align: right;\">\n      <th></th>\n      <th>34</th>\n      <th>50</th>\n    </tr>\n  </thead>\n  <tbody>\n    <tr>\n      <th>11</th>\n      <td>0.0</td>\n      <td>0.0</td>\n    </tr>\n    <tr>\n      <th>12</th>\n      <td>2.9</td>\n      <td>2.0</td>\n    </tr>\n    <tr>\n      <th>13</th>\n      <td>2.9</td>\n      <td>2.0</td>\n    </tr>\n    <tr>\n      <th>14</th>\n      <td>2.9</td>\n      <td>2.0</td>\n    </tr>\n    <tr>\n      <th>15</th>\n      <td>2.9</td>\n      <td>2.0</td>\n    </tr>\n    <tr>\n      <th>17</th>\n      <td>5.9</td>\n      <td>4.0</td>\n    </tr>\n    <tr>\n      <th>19</th>\n      <td>5.9</td>\n      <td>4.0</td>\n    </tr>\n    <tr>\n      <th>21</th>\n      <td>5.9</td>\n      <td>4.0</td>\n    </tr>\n    <tr>\n      <th>23</th>\n      <td>5.9</td>\n      <td>4.0</td>\n    </tr>\n    <tr>\n      <th>25</th>\n      <td>5.9</td>\n      <td>4.0</td>\n    </tr>\n    <tr>\n      <th>28</th>\n      <td>8.8</td>\n      <td>6.0</td>\n    </tr>\n  </tbody>\n</table>\n</div>",
            "text/plain": "     34   50\n11  0.0  0.0\n12  2.9  2.0\n13  2.9  2.0\n14  2.9  2.0\n15  2.9  2.0\n17  5.9  4.0\n19  5.9  4.0\n21  5.9  4.0\n23  5.9  4.0\n25  5.9  4.0\n28  8.8  6.0"
          },
          "metadata": {}
        }
      ]
    },
    {
      "metadata": {},
      "cell_type": "markdown",
      "source": "## Conditional formatting\n\nColorize the percentage output:\n- Green is <5%\n- Yellow is 5-10%\n- Red is 10%+"
    },
    {
      "metadata": {
        "trusted": true
      },
      "cell_type": "code",
      "source": "def colorize(val):\n    if val < 5:\n        color = 'green'\n        text = 'white'\n    elif val >= 5 and val < 10:\n        color = 'yellow'\n        text = 'black'\n    else:\n        color = 'red'\n        text = 'white'\n    \n    return f\"background-color: {color}; color: {text}\"",
      "execution_count": 25,
      "outputs": []
    },
    {
      "metadata": {
        "trusted": true
      },
      "cell_type": "code",
      "source": "df.round(1).style.applymap(colorize)",
      "execution_count": 28,
      "outputs": [
        {
          "output_type": "execute_result",
          "execution_count": 28,
          "data": {
            "text/html": "<style  type=\"text/css\" >\n    #T_35116d7a_388b_11e9_b96e_00155d1bcda1row0_col0 {\n            background-color:  green;\n             color:  white;\n        }    #T_35116d7a_388b_11e9_b96e_00155d1bcda1row0_col1 {\n            background-color:  green;\n             color:  white;\n        }    #T_35116d7a_388b_11e9_b96e_00155d1bcda1row1_col0 {\n            background-color:  green;\n             color:  white;\n        }    #T_35116d7a_388b_11e9_b96e_00155d1bcda1row1_col1 {\n            background-color:  green;\n             color:  white;\n        }    #T_35116d7a_388b_11e9_b96e_00155d1bcda1row2_col0 {\n            background-color:  green;\n             color:  white;\n        }    #T_35116d7a_388b_11e9_b96e_00155d1bcda1row2_col1 {\n            background-color:  green;\n             color:  white;\n        }    #T_35116d7a_388b_11e9_b96e_00155d1bcda1row3_col0 {\n            background-color:  green;\n             color:  white;\n        }    #T_35116d7a_388b_11e9_b96e_00155d1bcda1row3_col1 {\n            background-color:  green;\n             color:  white;\n        }    #T_35116d7a_388b_11e9_b96e_00155d1bcda1row4_col0 {\n            background-color:  green;\n             color:  white;\n        }    #T_35116d7a_388b_11e9_b96e_00155d1bcda1row4_col1 {\n            background-color:  green;\n             color:  white;\n        }    #T_35116d7a_388b_11e9_b96e_00155d1bcda1row5_col0 {\n            background-color:  yellow;\n             color:  black;\n        }    #T_35116d7a_388b_11e9_b96e_00155d1bcda1row5_col1 {\n            background-color:  green;\n             color:  white;\n        }    #T_35116d7a_388b_11e9_b96e_00155d1bcda1row6_col0 {\n            background-color:  yellow;\n             color:  black;\n        }    #T_35116d7a_388b_11e9_b96e_00155d1bcda1row6_col1 {\n            background-color:  green;\n             color:  white;\n        }    #T_35116d7a_388b_11e9_b96e_00155d1bcda1row7_col0 {\n            background-color:  yellow;\n             color:  black;\n        }    #T_35116d7a_388b_11e9_b96e_00155d1bcda1row7_col1 {\n            background-color:  green;\n             color:  white;\n        }    #T_35116d7a_388b_11e9_b96e_00155d1bcda1row8_col0 {\n            background-color:  yellow;\n             color:  black;\n        }    #T_35116d7a_388b_11e9_b96e_00155d1bcda1row8_col1 {\n            background-color:  green;\n             color:  white;\n        }    #T_35116d7a_388b_11e9_b96e_00155d1bcda1row9_col0 {\n            background-color:  yellow;\n             color:  black;\n        }    #T_35116d7a_388b_11e9_b96e_00155d1bcda1row9_col1 {\n            background-color:  green;\n             color:  white;\n        }    #T_35116d7a_388b_11e9_b96e_00155d1bcda1row10_col0 {\n            background-color:  yellow;\n             color:  black;\n        }    #T_35116d7a_388b_11e9_b96e_00155d1bcda1row10_col1 {\n            background-color:  yellow;\n             color:  black;\n        }</style>  \n<table id=\"T_35116d7a_388b_11e9_b96e_00155d1bcda1\" > \n<thead>    <tr> \n        <th class=\"blank level0\" ></th> \n        <th class=\"col_heading level0 col0\" >34</th> \n        <th class=\"col_heading level0 col1\" >50</th> \n    </tr></thead> \n<tbody>    <tr> \n        <th id=\"T_35116d7a_388b_11e9_b96e_00155d1bcda1level0_row0\" class=\"row_heading level0 row0\" >11</th> \n        <td id=\"T_35116d7a_388b_11e9_b96e_00155d1bcda1row0_col0\" class=\"data row0 col0\" >0</td> \n        <td id=\"T_35116d7a_388b_11e9_b96e_00155d1bcda1row0_col1\" class=\"data row0 col1\" >0</td> \n    </tr>    <tr> \n        <th id=\"T_35116d7a_388b_11e9_b96e_00155d1bcda1level0_row1\" class=\"row_heading level0 row1\" >12</th> \n        <td id=\"T_35116d7a_388b_11e9_b96e_00155d1bcda1row1_col0\" class=\"data row1 col0\" >2.9</td> \n        <td id=\"T_35116d7a_388b_11e9_b96e_00155d1bcda1row1_col1\" class=\"data row1 col1\" >2</td> \n    </tr>    <tr> \n        <th id=\"T_35116d7a_388b_11e9_b96e_00155d1bcda1level0_row2\" class=\"row_heading level0 row2\" >13</th> \n        <td id=\"T_35116d7a_388b_11e9_b96e_00155d1bcda1row2_col0\" class=\"data row2 col0\" >2.9</td> \n        <td id=\"T_35116d7a_388b_11e9_b96e_00155d1bcda1row2_col1\" class=\"data row2 col1\" >2</td> \n    </tr>    <tr> \n        <th id=\"T_35116d7a_388b_11e9_b96e_00155d1bcda1level0_row3\" class=\"row_heading level0 row3\" >14</th> \n        <td id=\"T_35116d7a_388b_11e9_b96e_00155d1bcda1row3_col0\" class=\"data row3 col0\" >2.9</td> \n        <td id=\"T_35116d7a_388b_11e9_b96e_00155d1bcda1row3_col1\" class=\"data row3 col1\" >2</td> \n    </tr>    <tr> \n        <th id=\"T_35116d7a_388b_11e9_b96e_00155d1bcda1level0_row4\" class=\"row_heading level0 row4\" >15</th> \n        <td id=\"T_35116d7a_388b_11e9_b96e_00155d1bcda1row4_col0\" class=\"data row4 col0\" >2.9</td> \n        <td id=\"T_35116d7a_388b_11e9_b96e_00155d1bcda1row4_col1\" class=\"data row4 col1\" >2</td> \n    </tr>    <tr> \n        <th id=\"T_35116d7a_388b_11e9_b96e_00155d1bcda1level0_row5\" class=\"row_heading level0 row5\" >17</th> \n        <td id=\"T_35116d7a_388b_11e9_b96e_00155d1bcda1row5_col0\" class=\"data row5 col0\" >5.9</td> \n        <td id=\"T_35116d7a_388b_11e9_b96e_00155d1bcda1row5_col1\" class=\"data row5 col1\" >4</td> \n    </tr>    <tr> \n        <th id=\"T_35116d7a_388b_11e9_b96e_00155d1bcda1level0_row6\" class=\"row_heading level0 row6\" >19</th> \n        <td id=\"T_35116d7a_388b_11e9_b96e_00155d1bcda1row6_col0\" class=\"data row6 col0\" >5.9</td> \n        <td id=\"T_35116d7a_388b_11e9_b96e_00155d1bcda1row6_col1\" class=\"data row6 col1\" >4</td> \n    </tr>    <tr> \n        <th id=\"T_35116d7a_388b_11e9_b96e_00155d1bcda1level0_row7\" class=\"row_heading level0 row7\" >21</th> \n        <td id=\"T_35116d7a_388b_11e9_b96e_00155d1bcda1row7_col0\" class=\"data row7 col0\" >5.9</td> \n        <td id=\"T_35116d7a_388b_11e9_b96e_00155d1bcda1row7_col1\" class=\"data row7 col1\" >4</td> \n    </tr>    <tr> \n        <th id=\"T_35116d7a_388b_11e9_b96e_00155d1bcda1level0_row8\" class=\"row_heading level0 row8\" >23</th> \n        <td id=\"T_35116d7a_388b_11e9_b96e_00155d1bcda1row8_col0\" class=\"data row8 col0\" >5.9</td> \n        <td id=\"T_35116d7a_388b_11e9_b96e_00155d1bcda1row8_col1\" class=\"data row8 col1\" >4</td> \n    </tr>    <tr> \n        <th id=\"T_35116d7a_388b_11e9_b96e_00155d1bcda1level0_row9\" class=\"row_heading level0 row9\" >25</th> \n        <td id=\"T_35116d7a_388b_11e9_b96e_00155d1bcda1row9_col0\" class=\"data row9 col0\" >5.9</td> \n        <td id=\"T_35116d7a_388b_11e9_b96e_00155d1bcda1row9_col1\" class=\"data row9 col1\" >4</td> \n    </tr>    <tr> \n        <th id=\"T_35116d7a_388b_11e9_b96e_00155d1bcda1level0_row10\" class=\"row_heading level0 row10\" >28</th> \n        <td id=\"T_35116d7a_388b_11e9_b96e_00155d1bcda1row10_col0\" class=\"data row10 col0\" >8.8</td> \n        <td id=\"T_35116d7a_388b_11e9_b96e_00155d1bcda1row10_col1\" class=\"data row10 col1\" >6</td> \n    </tr></tbody> \n</table> ",
            "text/plain": "<pandas.io.formats.style.Styler at 0x7ff41ff406d8>"
          },
          "metadata": {}
        }
      ]
    },
    {
      "metadata": {},
      "cell_type": "markdown",
      "source": "## Database of cassettes and cranksets\n\nThe simplest thing to do is to create these things as dicts. In the future, we will change this thing to use some kind of file-based database (CSV?)"
    },
    {
      "metadata": {
        "trusted": true
      },
      "cell_type": "code",
      "source": "cassettes = {\n    'Shimano 11-46T': [11, 13, 15, 17, 19, 21, 24, 28, 32, 37, 46],\n    'Shimano 11-42T': [11, 13, 15, 17, 19, 21, 24, 28, 32, 37, 42],\n    'Shimano 11-40T': [11, 13, 15, 17, 19, 21, 24, 27, 31, 35, 40],\n    'Shimano 11-32T': [11, 12, 13, 14, 16, 18, 20, 22, 25, 28, 32],\n    'Shimano 11-28T': [11, 12, 13, 14, 15, 17, 19, 21, 23, 25, 28],\n    'Shimano 11-25T': [11, 12, 13, 14, 15, 16, 17, 19, 21, 23, 25],\n    'Shimano 11-23T': [11, 12, 13, 14, 15, 16, 17, 18, 19, 21, 23],\n    'Shimano 12-25T': [12, 13, 14, 15, 16, 17, 18, 19, 21, 23, 25],\n    'Shimano 12-28T': [12, 13, 14, 15, 16, 17, 19, 21, 23, 25, 28],\n}\n\ncranksets = {\n    'Compact': [50, 34],\n    'Cross': [46, 36],\n}",
      "execution_count": 33,
      "outputs": []
    },
    {
      "metadata": {
        "trusted": true
      },
      "cell_type": "code",
      "source": "def compute_percentages(crankset, cassette):\n    df = pd.DataFrame(index = cassette)\n\n    percentage = [0]\n    for crank_gear in crankset:\n        for i in range(len(cassette) - 1):\n            percentage.append((cassette[i + 1] - cassette[i])/crank_gear * 100)\n        df[crank_gear] = percentage\n        percentage = [0]\n        \n    def colorize(val):\n        if val < 5:\n            color = 'green'\n            text = 'white'\n        elif val >= 5 and val < 10:\n            color = 'yellow'\n            text = 'black'\n        else:\n            color = 'red'\n            text = 'white'\n\n        return f\"background-color: {color}; color: {text}\"\n    \n    return df.round(1).style.applymap(colorize)",
      "execution_count": 31,
      "outputs": []
    },
    {
      "metadata": {
        "trusted": true
      },
      "cell_type": "code",
      "source": "gravel_wheel = compute_percentages(cranksets['Compact'], cassettes['Shimano 11-46T'])\ngravel_wheel.name = \"Gravel Wheel\"\nroad_wheel = compute_percentages(cranksets['Compact'], cassettes['Shimano 11-32T'])",
      "execution_count": 45,
      "outputs": []
    },
    {
      "metadata": {},
      "cell_type": "markdown",
      "source": "OMG what a hack."
    },
    {
      "metadata": {
        "trusted": true
      },
      "cell_type": "code",
      "source": "from IPython.display import display, HTML\n\ndisplay(gravel_wheel)\ndisplay(road_wheel)\n\nHTML('<style>.output {flex-direction: row;}</style>')",
      "execution_count": 46,
      "outputs": [
        {
          "output_type": "display_data",
          "data": {
            "text/html": "<style  type=\"text/css\" >\n    #T_2fef54d4_388f_11e9_b96e_00155d1bcda1row0_col0 {\n            background-color:  green;\n             color:  white;\n        }    #T_2fef54d4_388f_11e9_b96e_00155d1bcda1row0_col1 {\n            background-color:  green;\n             color:  white;\n        }    #T_2fef54d4_388f_11e9_b96e_00155d1bcda1row1_col0 {\n            background-color:  green;\n             color:  white;\n        }    #T_2fef54d4_388f_11e9_b96e_00155d1bcda1row1_col1 {\n            background-color:  yellow;\n             color:  black;\n        }    #T_2fef54d4_388f_11e9_b96e_00155d1bcda1row2_col0 {\n            background-color:  green;\n             color:  white;\n        }    #T_2fef54d4_388f_11e9_b96e_00155d1bcda1row2_col1 {\n            background-color:  yellow;\n             color:  black;\n        }    #T_2fef54d4_388f_11e9_b96e_00155d1bcda1row3_col0 {\n            background-color:  green;\n             color:  white;\n        }    #T_2fef54d4_388f_11e9_b96e_00155d1bcda1row3_col1 {\n            background-color:  yellow;\n             color:  black;\n        }    #T_2fef54d4_388f_11e9_b96e_00155d1bcda1row4_col0 {\n            background-color:  green;\n             color:  white;\n        }    #T_2fef54d4_388f_11e9_b96e_00155d1bcda1row4_col1 {\n            background-color:  yellow;\n             color:  black;\n        }    #T_2fef54d4_388f_11e9_b96e_00155d1bcda1row5_col0 {\n            background-color:  green;\n             color:  white;\n        }    #T_2fef54d4_388f_11e9_b96e_00155d1bcda1row5_col1 {\n            background-color:  yellow;\n             color:  black;\n        }    #T_2fef54d4_388f_11e9_b96e_00155d1bcda1row6_col0 {\n            background-color:  yellow;\n             color:  black;\n        }    #T_2fef54d4_388f_11e9_b96e_00155d1bcda1row6_col1 {\n            background-color:  yellow;\n             color:  black;\n        }    #T_2fef54d4_388f_11e9_b96e_00155d1bcda1row7_col0 {\n            background-color:  yellow;\n             color:  black;\n        }    #T_2fef54d4_388f_11e9_b96e_00155d1bcda1row7_col1 {\n            background-color:  red;\n             color:  white;\n        }    #T_2fef54d4_388f_11e9_b96e_00155d1bcda1row8_col0 {\n            background-color:  yellow;\n             color:  black;\n        }    #T_2fef54d4_388f_11e9_b96e_00155d1bcda1row8_col1 {\n            background-color:  red;\n             color:  white;\n        }    #T_2fef54d4_388f_11e9_b96e_00155d1bcda1row9_col0 {\n            background-color:  red;\n             color:  white;\n        }    #T_2fef54d4_388f_11e9_b96e_00155d1bcda1row9_col1 {\n            background-color:  red;\n             color:  white;\n        }    #T_2fef54d4_388f_11e9_b96e_00155d1bcda1row10_col0 {\n            background-color:  red;\n             color:  white;\n        }    #T_2fef54d4_388f_11e9_b96e_00155d1bcda1row10_col1 {\n            background-color:  red;\n             color:  white;\n        }</style>  \n<table id=\"T_2fef54d4_388f_11e9_b96e_00155d1bcda1\" > \n<thead>    <tr> \n        <th class=\"blank level0\" ></th> \n        <th class=\"col_heading level0 col0\" >50</th> \n        <th class=\"col_heading level0 col1\" >34</th> \n    </tr></thead> \n<tbody>    <tr> \n        <th id=\"T_2fef54d4_388f_11e9_b96e_00155d1bcda1level0_row0\" class=\"row_heading level0 row0\" >11</th> \n        <td id=\"T_2fef54d4_388f_11e9_b96e_00155d1bcda1row0_col0\" class=\"data row0 col0\" >0</td> \n        <td id=\"T_2fef54d4_388f_11e9_b96e_00155d1bcda1row0_col1\" class=\"data row0 col1\" >0</td> \n    </tr>    <tr> \n        <th id=\"T_2fef54d4_388f_11e9_b96e_00155d1bcda1level0_row1\" class=\"row_heading level0 row1\" >13</th> \n        <td id=\"T_2fef54d4_388f_11e9_b96e_00155d1bcda1row1_col0\" class=\"data row1 col0\" >4</td> \n        <td id=\"T_2fef54d4_388f_11e9_b96e_00155d1bcda1row1_col1\" class=\"data row1 col1\" >5.9</td> \n    </tr>    <tr> \n        <th id=\"T_2fef54d4_388f_11e9_b96e_00155d1bcda1level0_row2\" class=\"row_heading level0 row2\" >15</th> \n        <td id=\"T_2fef54d4_388f_11e9_b96e_00155d1bcda1row2_col0\" class=\"data row2 col0\" >4</td> \n        <td id=\"T_2fef54d4_388f_11e9_b96e_00155d1bcda1row2_col1\" class=\"data row2 col1\" >5.9</td> \n    </tr>    <tr> \n        <th id=\"T_2fef54d4_388f_11e9_b96e_00155d1bcda1level0_row3\" class=\"row_heading level0 row3\" >17</th> \n        <td id=\"T_2fef54d4_388f_11e9_b96e_00155d1bcda1row3_col0\" class=\"data row3 col0\" >4</td> \n        <td id=\"T_2fef54d4_388f_11e9_b96e_00155d1bcda1row3_col1\" class=\"data row3 col1\" >5.9</td> \n    </tr>    <tr> \n        <th id=\"T_2fef54d4_388f_11e9_b96e_00155d1bcda1level0_row4\" class=\"row_heading level0 row4\" >19</th> \n        <td id=\"T_2fef54d4_388f_11e9_b96e_00155d1bcda1row4_col0\" class=\"data row4 col0\" >4</td> \n        <td id=\"T_2fef54d4_388f_11e9_b96e_00155d1bcda1row4_col1\" class=\"data row4 col1\" >5.9</td> \n    </tr>    <tr> \n        <th id=\"T_2fef54d4_388f_11e9_b96e_00155d1bcda1level0_row5\" class=\"row_heading level0 row5\" >21</th> \n        <td id=\"T_2fef54d4_388f_11e9_b96e_00155d1bcda1row5_col0\" class=\"data row5 col0\" >4</td> \n        <td id=\"T_2fef54d4_388f_11e9_b96e_00155d1bcda1row5_col1\" class=\"data row5 col1\" >5.9</td> \n    </tr>    <tr> \n        <th id=\"T_2fef54d4_388f_11e9_b96e_00155d1bcda1level0_row6\" class=\"row_heading level0 row6\" >24</th> \n        <td id=\"T_2fef54d4_388f_11e9_b96e_00155d1bcda1row6_col0\" class=\"data row6 col0\" >6</td> \n        <td id=\"T_2fef54d4_388f_11e9_b96e_00155d1bcda1row6_col1\" class=\"data row6 col1\" >8.8</td> \n    </tr>    <tr> \n        <th id=\"T_2fef54d4_388f_11e9_b96e_00155d1bcda1level0_row7\" class=\"row_heading level0 row7\" >28</th> \n        <td id=\"T_2fef54d4_388f_11e9_b96e_00155d1bcda1row7_col0\" class=\"data row7 col0\" >8</td> \n        <td id=\"T_2fef54d4_388f_11e9_b96e_00155d1bcda1row7_col1\" class=\"data row7 col1\" >11.8</td> \n    </tr>    <tr> \n        <th id=\"T_2fef54d4_388f_11e9_b96e_00155d1bcda1level0_row8\" class=\"row_heading level0 row8\" >32</th> \n        <td id=\"T_2fef54d4_388f_11e9_b96e_00155d1bcda1row8_col0\" class=\"data row8 col0\" >8</td> \n        <td id=\"T_2fef54d4_388f_11e9_b96e_00155d1bcda1row8_col1\" class=\"data row8 col1\" >11.8</td> \n    </tr>    <tr> \n        <th id=\"T_2fef54d4_388f_11e9_b96e_00155d1bcda1level0_row9\" class=\"row_heading level0 row9\" >37</th> \n        <td id=\"T_2fef54d4_388f_11e9_b96e_00155d1bcda1row9_col0\" class=\"data row9 col0\" >10</td> \n        <td id=\"T_2fef54d4_388f_11e9_b96e_00155d1bcda1row9_col1\" class=\"data row9 col1\" >14.7</td> \n    </tr>    <tr> \n        <th id=\"T_2fef54d4_388f_11e9_b96e_00155d1bcda1level0_row10\" class=\"row_heading level0 row10\" >46</th> \n        <td id=\"T_2fef54d4_388f_11e9_b96e_00155d1bcda1row10_col0\" class=\"data row10 col0\" >18</td> \n        <td id=\"T_2fef54d4_388f_11e9_b96e_00155d1bcda1row10_col1\" class=\"data row10 col1\" >26.5</td> \n    </tr></tbody> \n</table> ",
            "text/plain": "<pandas.io.formats.style.Styler at 0x7ff41e243278>"
          },
          "metadata": {}
        },
        {
          "output_type": "display_data",
          "data": {
            "text/html": "<style  type=\"text/css\" >\n    #T_2ffbaebe_388f_11e9_b96e_00155d1bcda1row0_col0 {\n            background-color:  green;\n             color:  white;\n        }    #T_2ffbaebe_388f_11e9_b96e_00155d1bcda1row0_col1 {\n            background-color:  green;\n             color:  white;\n        }    #T_2ffbaebe_388f_11e9_b96e_00155d1bcda1row1_col0 {\n            background-color:  green;\n             color:  white;\n        }    #T_2ffbaebe_388f_11e9_b96e_00155d1bcda1row1_col1 {\n            background-color:  green;\n             color:  white;\n        }    #T_2ffbaebe_388f_11e9_b96e_00155d1bcda1row2_col0 {\n            background-color:  green;\n             color:  white;\n        }    #T_2ffbaebe_388f_11e9_b96e_00155d1bcda1row2_col1 {\n            background-color:  green;\n             color:  white;\n        }    #T_2ffbaebe_388f_11e9_b96e_00155d1bcda1row3_col0 {\n            background-color:  green;\n             color:  white;\n        }    #T_2ffbaebe_388f_11e9_b96e_00155d1bcda1row3_col1 {\n            background-color:  green;\n             color:  white;\n        }    #T_2ffbaebe_388f_11e9_b96e_00155d1bcda1row4_col0 {\n            background-color:  green;\n             color:  white;\n        }    #T_2ffbaebe_388f_11e9_b96e_00155d1bcda1row4_col1 {\n            background-color:  yellow;\n             color:  black;\n        }    #T_2ffbaebe_388f_11e9_b96e_00155d1bcda1row5_col0 {\n            background-color:  green;\n             color:  white;\n        }    #T_2ffbaebe_388f_11e9_b96e_00155d1bcda1row5_col1 {\n            background-color:  yellow;\n             color:  black;\n        }    #T_2ffbaebe_388f_11e9_b96e_00155d1bcda1row6_col0 {\n            background-color:  green;\n             color:  white;\n        }    #T_2ffbaebe_388f_11e9_b96e_00155d1bcda1row6_col1 {\n            background-color:  yellow;\n             color:  black;\n        }    #T_2ffbaebe_388f_11e9_b96e_00155d1bcda1row7_col0 {\n            background-color:  green;\n             color:  white;\n        }    #T_2ffbaebe_388f_11e9_b96e_00155d1bcda1row7_col1 {\n            background-color:  yellow;\n             color:  black;\n        }    #T_2ffbaebe_388f_11e9_b96e_00155d1bcda1row8_col0 {\n            background-color:  yellow;\n             color:  black;\n        }    #T_2ffbaebe_388f_11e9_b96e_00155d1bcda1row8_col1 {\n            background-color:  yellow;\n             color:  black;\n        }    #T_2ffbaebe_388f_11e9_b96e_00155d1bcda1row9_col0 {\n            background-color:  yellow;\n             color:  black;\n        }    #T_2ffbaebe_388f_11e9_b96e_00155d1bcda1row9_col1 {\n            background-color:  yellow;\n             color:  black;\n        }    #T_2ffbaebe_388f_11e9_b96e_00155d1bcda1row10_col0 {\n            background-color:  yellow;\n             color:  black;\n        }    #T_2ffbaebe_388f_11e9_b96e_00155d1bcda1row10_col1 {\n            background-color:  red;\n             color:  white;\n        }</style>  \n<table id=\"T_2ffbaebe_388f_11e9_b96e_00155d1bcda1\" > \n<thead>    <tr> \n        <th class=\"blank level0\" ></th> \n        <th class=\"col_heading level0 col0\" >50</th> \n        <th class=\"col_heading level0 col1\" >34</th> \n    </tr></thead> \n<tbody>    <tr> \n        <th id=\"T_2ffbaebe_388f_11e9_b96e_00155d1bcda1level0_row0\" class=\"row_heading level0 row0\" >11</th> \n        <td id=\"T_2ffbaebe_388f_11e9_b96e_00155d1bcda1row0_col0\" class=\"data row0 col0\" >0</td> \n        <td id=\"T_2ffbaebe_388f_11e9_b96e_00155d1bcda1row0_col1\" class=\"data row0 col1\" >0</td> \n    </tr>    <tr> \n        <th id=\"T_2ffbaebe_388f_11e9_b96e_00155d1bcda1level0_row1\" class=\"row_heading level0 row1\" >12</th> \n        <td id=\"T_2ffbaebe_388f_11e9_b96e_00155d1bcda1row1_col0\" class=\"data row1 col0\" >2</td> \n        <td id=\"T_2ffbaebe_388f_11e9_b96e_00155d1bcda1row1_col1\" class=\"data row1 col1\" >2.9</td> \n    </tr>    <tr> \n        <th id=\"T_2ffbaebe_388f_11e9_b96e_00155d1bcda1level0_row2\" class=\"row_heading level0 row2\" >13</th> \n        <td id=\"T_2ffbaebe_388f_11e9_b96e_00155d1bcda1row2_col0\" class=\"data row2 col0\" >2</td> \n        <td id=\"T_2ffbaebe_388f_11e9_b96e_00155d1bcda1row2_col1\" class=\"data row2 col1\" >2.9</td> \n    </tr>    <tr> \n        <th id=\"T_2ffbaebe_388f_11e9_b96e_00155d1bcda1level0_row3\" class=\"row_heading level0 row3\" >14</th> \n        <td id=\"T_2ffbaebe_388f_11e9_b96e_00155d1bcda1row3_col0\" class=\"data row3 col0\" >2</td> \n        <td id=\"T_2ffbaebe_388f_11e9_b96e_00155d1bcda1row3_col1\" class=\"data row3 col1\" >2.9</td> \n    </tr>    <tr> \n        <th id=\"T_2ffbaebe_388f_11e9_b96e_00155d1bcda1level0_row4\" class=\"row_heading level0 row4\" >16</th> \n        <td id=\"T_2ffbaebe_388f_11e9_b96e_00155d1bcda1row4_col0\" class=\"data row4 col0\" >4</td> \n        <td id=\"T_2ffbaebe_388f_11e9_b96e_00155d1bcda1row4_col1\" class=\"data row4 col1\" >5.9</td> \n    </tr>    <tr> \n        <th id=\"T_2ffbaebe_388f_11e9_b96e_00155d1bcda1level0_row5\" class=\"row_heading level0 row5\" >18</th> \n        <td id=\"T_2ffbaebe_388f_11e9_b96e_00155d1bcda1row5_col0\" class=\"data row5 col0\" >4</td> \n        <td id=\"T_2ffbaebe_388f_11e9_b96e_00155d1bcda1row5_col1\" class=\"data row5 col1\" >5.9</td> \n    </tr>    <tr> \n        <th id=\"T_2ffbaebe_388f_11e9_b96e_00155d1bcda1level0_row6\" class=\"row_heading level0 row6\" >20</th> \n        <td id=\"T_2ffbaebe_388f_11e9_b96e_00155d1bcda1row6_col0\" class=\"data row6 col0\" >4</td> \n        <td id=\"T_2ffbaebe_388f_11e9_b96e_00155d1bcda1row6_col1\" class=\"data row6 col1\" >5.9</td> \n    </tr>    <tr> \n        <th id=\"T_2ffbaebe_388f_11e9_b96e_00155d1bcda1level0_row7\" class=\"row_heading level0 row7\" >22</th> \n        <td id=\"T_2ffbaebe_388f_11e9_b96e_00155d1bcda1row7_col0\" class=\"data row7 col0\" >4</td> \n        <td id=\"T_2ffbaebe_388f_11e9_b96e_00155d1bcda1row7_col1\" class=\"data row7 col1\" >5.9</td> \n    </tr>    <tr> \n        <th id=\"T_2ffbaebe_388f_11e9_b96e_00155d1bcda1level0_row8\" class=\"row_heading level0 row8\" >25</th> \n        <td id=\"T_2ffbaebe_388f_11e9_b96e_00155d1bcda1row8_col0\" class=\"data row8 col0\" >6</td> \n        <td id=\"T_2ffbaebe_388f_11e9_b96e_00155d1bcda1row8_col1\" class=\"data row8 col1\" >8.8</td> \n    </tr>    <tr> \n        <th id=\"T_2ffbaebe_388f_11e9_b96e_00155d1bcda1level0_row9\" class=\"row_heading level0 row9\" >28</th> \n        <td id=\"T_2ffbaebe_388f_11e9_b96e_00155d1bcda1row9_col0\" class=\"data row9 col0\" >6</td> \n        <td id=\"T_2ffbaebe_388f_11e9_b96e_00155d1bcda1row9_col1\" class=\"data row9 col1\" >8.8</td> \n    </tr>    <tr> \n        <th id=\"T_2ffbaebe_388f_11e9_b96e_00155d1bcda1level0_row10\" class=\"row_heading level0 row10\" >32</th> \n        <td id=\"T_2ffbaebe_388f_11e9_b96e_00155d1bcda1row10_col0\" class=\"data row10 col0\" >8</td> \n        <td id=\"T_2ffbaebe_388f_11e9_b96e_00155d1bcda1row10_col1\" class=\"data row10 col1\" >11.8</td> \n    </tr></tbody> \n</table> ",
            "text/plain": "<pandas.io.formats.style.Styler at 0x7ff41e2432e8>"
          },
          "metadata": {}
        },
        {
          "output_type": "execute_result",
          "execution_count": 46,
          "data": {
            "text/html": "<style>.output {flex-direction: row;}</style>",
            "text/plain": "<IPython.core.display.HTML object>"
          },
          "metadata": {}
        }
      ]
    },
    {
      "metadata": {
        "trusted": true
      },
      "cell_type": "code",
      "source": "def compute_gear_inches(cassette, crankset):\n    df = pd.DataFrame(index=cassette)\n    \n    data = []\n    for crank_gear in crankset:\n        for gear in cassette:\n            data.append(gear / crank_gear * 27)\n        df[crank_gear] = data\n        data = []\n    return df",
      "execution_count": 49,
      "outputs": []
    },
    {
      "metadata": {
        "trusted": true
      },
      "cell_type": "code",
      "source": "gravel_gearinches = compute_gear_inches(cassettes['Shimano 11-46T'])",
      "execution_count": null,
      "outputs": []
    }
  ],
  "metadata": {
    "kernelspec": {
      "name": "python36",
      "display_name": "Python 3.6",
      "language": "python"
    },
    "language_info": {
      "mimetype": "text/x-python",
      "nbconvert_exporter": "python",
      "name": "python",
      "pygments_lexer": "ipython3",
      "version": "3.6.6",
      "file_extension": ".py",
      "codemirror_mode": {
        "version": 3,
        "name": "ipython"
      }
    }
  },
  "nbformat": 4,
  "nbformat_minor": 2
}